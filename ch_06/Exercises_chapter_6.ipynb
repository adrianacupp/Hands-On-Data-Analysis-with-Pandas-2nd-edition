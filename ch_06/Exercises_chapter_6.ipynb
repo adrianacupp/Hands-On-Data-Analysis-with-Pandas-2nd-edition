{
 "cells": [
  {
   "cell_type": "raw",
   "id": "4943c9a9",
   "metadata": {},
   "source": [
    "Create the following visualizations using what we have learned so far in this book and the\n",
    "data from this chapter. Be sure to add titles, axis labels, and legends (where appropriate)\n",
    "to the plots:\n",
    "\n",
    "\n",
    "5. Using the Facebook stock price data, annotate the following three events on a line\n",
    "plot of the closing price:\n",
    "a) Disappointing user growth announced after close on July 25, 2018\n",
    "b) Cambridge Analytica story breaks on March 19, 2018 (when it affected the\n",
    "market)\n",
    "c) FTC launches investigation on March 20, 2018\n",
    "6. Modify the reg_resid_plots() function to use a matplotlib colormap\n",
    "instead of cycling between two colors. Remember, for this use case, we should\n",
    "pick a qualitative colormap or make our own."
   ]
  },
  {
   "cell_type": "markdown",
   "id": "196d2912",
   "metadata": {},
   "source": [
    "1. Using seaborn, create a heatmap to visualize the correlation coefficients between earthquake magnitude and whether there was a tsunami for earthquakes measured with the mb magnitude type."
   ]
  },
  {
   "cell_type": "code",
   "execution_count": 2,
   "id": "bb23f96a",
   "metadata": {},
   "outputs": [],
   "source": [
    "%matplotlib inline\n",
    "import matplotlib.pyplot as plt\n",
    "import numpy as np\n",
    "import pandas as pd\n",
    "import seaborn as sns"
   ]
  },
  {
   "cell_type": "code",
   "execution_count": 3,
   "id": "78943cf6",
   "metadata": {},
   "outputs": [],
   "source": [
    "quakes = pd.read_csv('data/earthquakes.csv')"
   ]
  },
  {
   "cell_type": "code",
   "execution_count": 4,
   "id": "4e323770",
   "metadata": {},
   "outputs": [
    {
     "data": {
      "text/html": [
       "<div>\n",
       "<style scoped>\n",
       "    .dataframe tbody tr th:only-of-type {\n",
       "        vertical-align: middle;\n",
       "    }\n",
       "\n",
       "    .dataframe tbody tr th {\n",
       "        vertical-align: top;\n",
       "    }\n",
       "\n",
       "    .dataframe thead th {\n",
       "        text-align: right;\n",
       "    }\n",
       "</style>\n",
       "<table border=\"1\" class=\"dataframe\">\n",
       "  <thead>\n",
       "    <tr style=\"text-align: right;\">\n",
       "      <th></th>\n",
       "      <th>mag</th>\n",
       "      <th>magType</th>\n",
       "      <th>time</th>\n",
       "      <th>place</th>\n",
       "      <th>tsunami</th>\n",
       "      <th>parsed_place</th>\n",
       "    </tr>\n",
       "  </thead>\n",
       "  <tbody>\n",
       "    <tr>\n",
       "      <th>0</th>\n",
       "      <td>1.35</td>\n",
       "      <td>ml</td>\n",
       "      <td>1539475168010</td>\n",
       "      <td>9km NE of Aguanga, CA</td>\n",
       "      <td>0</td>\n",
       "      <td>California</td>\n",
       "    </tr>\n",
       "    <tr>\n",
       "      <th>1</th>\n",
       "      <td>1.29</td>\n",
       "      <td>ml</td>\n",
       "      <td>1539475129610</td>\n",
       "      <td>9km NE of Aguanga, CA</td>\n",
       "      <td>0</td>\n",
       "      <td>California</td>\n",
       "    </tr>\n",
       "    <tr>\n",
       "      <th>2</th>\n",
       "      <td>3.42</td>\n",
       "      <td>ml</td>\n",
       "      <td>1539475062610</td>\n",
       "      <td>8km NE of Aguanga, CA</td>\n",
       "      <td>0</td>\n",
       "      <td>California</td>\n",
       "    </tr>\n",
       "    <tr>\n",
       "      <th>3</th>\n",
       "      <td>0.44</td>\n",
       "      <td>ml</td>\n",
       "      <td>1539474978070</td>\n",
       "      <td>9km NE of Aguanga, CA</td>\n",
       "      <td>0</td>\n",
       "      <td>California</td>\n",
       "    </tr>\n",
       "    <tr>\n",
       "      <th>4</th>\n",
       "      <td>2.16</td>\n",
       "      <td>md</td>\n",
       "      <td>1539474716050</td>\n",
       "      <td>10km NW of Avenal, CA</td>\n",
       "      <td>0</td>\n",
       "      <td>California</td>\n",
       "    </tr>\n",
       "  </tbody>\n",
       "</table>\n",
       "</div>"
      ],
      "text/plain": [
       "    mag magType           time                  place  tsunami parsed_place\n",
       "0  1.35      ml  1539475168010  9km NE of Aguanga, CA        0   California\n",
       "1  1.29      ml  1539475129610  9km NE of Aguanga, CA        0   California\n",
       "2  3.42      ml  1539475062610  8km NE of Aguanga, CA        0   California\n",
       "3  0.44      ml  1539474978070  9km NE of Aguanga, CA        0   California\n",
       "4  2.16      md  1539474716050  10km NW of Avenal, CA        0   California"
      ]
     },
     "execution_count": 4,
     "metadata": {},
     "output_type": "execute_result"
    }
   ],
   "source": [
    "quakes.head()"
   ]
  },
  {
   "cell_type": "code",
   "execution_count": 5,
   "id": "37c3d199",
   "metadata": {},
   "outputs": [],
   "source": [
    "mb_quakes = quakes.query('magType == \"mb\" ')[['mag','tsunami']]"
   ]
  },
  {
   "cell_type": "code",
   "execution_count": 6,
   "id": "86834692",
   "metadata": {},
   "outputs": [
    {
     "data": {
      "text/html": [
       "<div>\n",
       "<style scoped>\n",
       "    .dataframe tbody tr th:only-of-type {\n",
       "        vertical-align: middle;\n",
       "    }\n",
       "\n",
       "    .dataframe tbody tr th {\n",
       "        vertical-align: top;\n",
       "    }\n",
       "\n",
       "    .dataframe thead th {\n",
       "        text-align: right;\n",
       "    }\n",
       "</style>\n",
       "<table border=\"1\" class=\"dataframe\">\n",
       "  <thead>\n",
       "    <tr style=\"text-align: right;\">\n",
       "      <th></th>\n",
       "      <th>mag</th>\n",
       "      <th>tsunami</th>\n",
       "    </tr>\n",
       "  </thead>\n",
       "  <tbody>\n",
       "    <tr>\n",
       "      <th>9</th>\n",
       "      <td>4.7</td>\n",
       "      <td>0</td>\n",
       "    </tr>\n",
       "    <tr>\n",
       "      <th>13</th>\n",
       "      <td>4.5</td>\n",
       "      <td>0</td>\n",
       "    </tr>\n",
       "    <tr>\n",
       "      <th>55</th>\n",
       "      <td>4.6</td>\n",
       "      <td>0</td>\n",
       "    </tr>\n",
       "    <tr>\n",
       "      <th>67</th>\n",
       "      <td>4.6</td>\n",
       "      <td>0</td>\n",
       "    </tr>\n",
       "    <tr>\n",
       "      <th>91</th>\n",
       "      <td>4.7</td>\n",
       "      <td>0</td>\n",
       "    </tr>\n",
       "    <tr>\n",
       "      <th>...</th>\n",
       "      <td>...</td>\n",
       "      <td>...</td>\n",
       "    </tr>\n",
       "    <tr>\n",
       "      <th>9297</th>\n",
       "      <td>4.2</td>\n",
       "      <td>0</td>\n",
       "    </tr>\n",
       "    <tr>\n",
       "      <th>9304</th>\n",
       "      <td>5.1</td>\n",
       "      <td>1</td>\n",
       "    </tr>\n",
       "    <tr>\n",
       "      <th>9309</th>\n",
       "      <td>4.8</td>\n",
       "      <td>0</td>\n",
       "    </tr>\n",
       "    <tr>\n",
       "      <th>9319</th>\n",
       "      <td>4.4</td>\n",
       "      <td>0</td>\n",
       "    </tr>\n",
       "    <tr>\n",
       "      <th>9321</th>\n",
       "      <td>4.3</td>\n",
       "      <td>0</td>\n",
       "    </tr>\n",
       "  </tbody>\n",
       "</table>\n",
       "<p>601 rows × 2 columns</p>\n",
       "</div>"
      ],
      "text/plain": [
       "      mag  tsunami\n",
       "9     4.7        0\n",
       "13    4.5        0\n",
       "55    4.6        0\n",
       "67    4.6        0\n",
       "91    4.7        0\n",
       "...   ...      ...\n",
       "9297  4.2        0\n",
       "9304  5.1        1\n",
       "9309  4.8        0\n",
       "9319  4.4        0\n",
       "9321  4.3        0\n",
       "\n",
       "[601 rows x 2 columns]"
      ]
     },
     "execution_count": 6,
     "metadata": {},
     "output_type": "execute_result"
    }
   ],
   "source": [
    "mb_quakes"
   ]
  },
  {
   "cell_type": "code",
   "execution_count": 7,
   "id": "bf56596c",
   "metadata": {
    "scrolled": false
   },
   "outputs": [
    {
     "data": {
      "text/plain": [
       "Text(0.5, 1.0, 'Correlation between magnitude in mb and tsunami')"
      ]
     },
     "execution_count": 7,
     "metadata": {},
     "output_type": "execute_result"
    },
    {
     "data": {
      "image/png": "[encoded data removed]",
      "text/plain": [
       "<Figure size 432x288 with 2 Axes>"
      ]
     },
     "metadata": {
      "needs_background": "light"
     },
     "output_type": "display_data"
    }
   ],
   "source": [
    "sns.heatmap(mb_quakes.corr(),\n",
    "    annot=True, center=0, vmin=-1, vmax=1)\n",
    "plt.title('Correlation between magnitude in mb and tsunami')"
   ]
  },
  {
   "cell_type": "markdown",
   "id": "257d1ee6",
   "metadata": {},
   "source": [
    "2. Create a box plot of Facebook volume traded and closing prices, and draw reference lines for the bounds of a Tukey fence with a multiplier of 1.5. The bounds will be at Q1 − 1.5 × IQR and Q3 + 1.5 × IQR. Be sure to use the quantile() method on the data to make this easier. (Pick whichever orientation you prefer for the plot, butmake sure to use subplots.)"
   ]
  },
  {
   "cell_type": "code",
   "execution_count": 8,
   "id": "d6e8de1e",
   "metadata": {},
   "outputs": [],
   "source": [
    "fb = pd.read_csv(\n",
    "    'data/fb_stock_prices_2018.csv', index_col='date', parse_dates=True\n",
    ")\n",
    "# Tukey's fences is one of the most popular simple outlier detectors for one-dimensional number arrays."
   ]
  },
  {
   "cell_type": "code",
   "execution_count": 10,
   "id": "36c60fb0",
   "metadata": {},
   "outputs": [
    {
     "data": {
      "text/plain": [
       "Text(0.5, 1.1, 'Facebook volume traded and closing price with Tukey Fence bounds')"
      ]
     },
     "execution_count": 10,
     "metadata": {},
     "output_type": "execute_result"
    },
    {
     "data": {
      "image/png": "[encoded data removed]",
      "text/plain": [
       "<Figure size 576x216 with 2 Axes>"
      ]
     },
     "metadata": {
      "needs_background": "light"
     },
     "output_type": "display_data"
    }
   ],
   "source": [
    "cols = ['volume', 'close']\n",
    "subset = fb[cols]\n",
    "\n",
    "quantiles = subset.quantile([0.25, 0.75])\n",
    "quantiles.loc['iqr',:] = quantiles.loc[0.75,:] - quantiles.loc[0.25,:]\n",
    "\n",
    "axes = subset.plot(kind='box', subplots=True, figsize=(8, 3), title=['Volume Traded', 'Closing Price'])\n",
    "for ax, col in zip(axes, cols):\n",
    "    stats = quantiles[col]\n",
    "    lower = stats.loc[0.25] - 1.5 * stats['iqr']\n",
    "    upper = stats.loc[0.75] + 1.5 * stats['iqr']\n",
    "    for bound, name in zip([lower, upper], ['lower', 'upper']):\n",
    "        ax.axhline(\n",
    "            bound, \n",
    "            color='red', \n",
    "            linestyle='dashed',\n",
    "            label=name\n",
    "        )\n",
    "        ax.legend()\n",
    "plt.suptitle('Facebook volume traded and closing price with Tukey Fence bounds', y=1.1)"
   ]
  },
  {
   "cell_type": "markdown",
   "id": "f502175c",
   "metadata": {},
   "source": [
    "3. Plot the evolution of cumulative COVID-19 cases worldwide, and add a dashed vertical line on the date that it surpassed 1 million. Be sure to format the tick labels on the y-axis accordingly."
   ]
  },
  {
   "cell_type": "code",
   "execution_count": 11,
   "id": "1c242f6a",
   "metadata": {},
   "outputs": [],
   "source": [
    "covid = pd.read_csv('data/covid19_cases.csv').assign(\n",
    "    date=lambda x: pd.to_datetime(x.dateRep, format='%d/%m/%Y')\n",
    ").set_index('date').replace(\n",
    "    'United_States_of_America', 'USA'\n",
    ").sort_index()['2020-01-18':'2020-09-18']"
   ]
  },
  {
   "cell_type": "code",
   "execution_count": 14,
   "id": "3e5ee0cf",
   "metadata": {},
   "outputs": [],
   "source": [
    "cumulative_covid_cases = covid.groupby(pd.Grouper(freq='1D')).cases.sum().apply('cumsum')"
   ]
  },
  {
   "cell_type": "code",
   "execution_count": 20,
   "id": "057328ee",
   "metadata": {
    "scrolled": true
   },
   "outputs": [],
   "source": [
    "over1M = cumulative_covid_cases[cumulative_covid_cases >= 1000000.0].index[0]"
   ]
  },
  {
   "cell_type": "code",
   "execution_count": 34,
   "id": "a2a5943e",
   "metadata": {},
   "outputs": [
    {
     "data": {
      "text/plain": [
       "Text(2020-05-21, 2020-04-03 00:00:00, '1 Million cases\\n(2020-04-03)')"
      ]
     },
     "execution_count": 34,
     "metadata": {},
     "output_type": "execute_result"
    },
    {
     "data": {
      "image/png": "[encoded data removed]",
      "text/plain": [
       "<Figure size 432x288 with 1 Axes>"
      ]
     },
     "metadata": {
      "needs_background": "light"
     },
     "output_type": "display_data"
    }
   ],
   "source": [
    "from matplotlib.ticker import EngFormatter \n",
    "\n",
    "ax = cumulative_covid_cases.plot(style=['--'])\n",
    "ax.axvline(over1M)\n",
    "\n",
    "ax.set(xlabel='', ylabel='cumulative COVID-19 cases')\n",
    "ax.yaxis.set_major_formatter(EngFormatter())\n",
    "\n",
    "plt.annotate(\n",
    "    f'1 Million cases\\n({over1M.strftime(\"2020-04-03\")})',\n",
    "    xy=('2020-04-03 00:00:00', over1M),\n",
    "    xytext=('2020-05-21', over1M),\n",
    "    arrowprops={'arrowstyle': '->'}\n",
    ")\n"
   ]
  },
  {
   "cell_type": "markdown",
   "id": "1b8641b5",
   "metadata": {},
   "source": [
    "4. Use axvspan() to shade a rectangle from '2018-07-25' to '2018-07-31', which marks the large decline in Facebook price on a line plot of the closing price."
   ]
  }
 ],
 "metadata": {
  "kernelspec": {
   "display_name": "Python 3 (ipykernel)",
   "language": "python",
   "name": "python3"
  },
  "language_info": {
   "codemirror_mode": {
    "name": "ipython",
    "version": 3
   },
   "file_extension": ".py",
   "mimetype": "text/x-python",
   "name": "python",
   "nbconvert_exporter": "python",
   "pygments_lexer": "ipython3",
   "version": "3.9.7"
  },
  "toc": {
   "base_numbering": 1,
   "nav_menu": {},
   "number_sections": true,
   "sideBar": true,
   "skip_h1_title": false,
   "title_cell": "Table of Contents",
   "title_sidebar": "Contents",
   "toc_cell": false,
   "toc_position": {},
   "toc_section_display": true,
   "toc_window_display": false
  }
 },
 "nbformat": 4,
 "nbformat_minor": 5
}
